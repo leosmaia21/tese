{
 "cells": [
  {
   "cell_type": "code",
   "execution_count": 1,
   "metadata": {},
   "outputs": [
    {
     "name": "stdout",
     "output_type": "stream",
     "text": [
      "/home/leonardo/Desktop/tese/processing_mamoas/yolov7\n"
     ]
    }
   ],
   "source": [
    "#!git clone https://github.com/WongKinYiu/yolov7\n",
    "%cd yolov7\n",
    "#%pip install -qr requirements.txt # install dependencies"
   ]
  },
  {
   "cell_type": "code",
   "execution_count": null,
   "metadata": {},
   "outputs": [],
   "source": [
    "\n",
    "import torch, gc\n",
    "gc.collect()\n",
    "torch.cuda.empty_cache()\n",
    "!python train.py --workers 8 --device 0 --batch-size 10 --epochs 600 --data ../mamoas_15_15.yaml --img 640 640 --cfg cfg/training/yolov7.yaml --weights 'yolov7.pt' --hyp data/hyp.scratch.p5.yaml\n"
   ]
  },
  {
   "cell_type": "code",
   "execution_count": 5,
   "metadata": {},
   "outputs": [
    {
     "name": "stdout",
     "output_type": "stream",
     "text": [
      "/usr/bin/zsh: /home/leonardo/anaconda3/envs/ml/lib/libtinfo.so.6: no version information available (required by /usr/bin/zsh)\n",
      "Namespace(weights=['/home/leonardo/Downloads/best.pt'], source='../../preprocessing_mamoas/dataset_mamoas_res_320_jpg/teste_val', img_size=640, conf_thres=0.25, iou_thres=0.45, device='', view_img=False, save_txt=False, save_conf=False, nosave=False, classes=None, agnostic_nms=False, augment=False, update=False, project='runs/detect', name='exp', exist_ok=False, no_trace=False)\n",
      "YOLOR 🚀 v0.1-115-g072f76c torch 1.12.1+cu102 CUDA:0 (NVIDIA GeForce MX250, 2002.6875MB)\n",
      "\n",
      "Fusing layers... \n",
      "RepConv.fuse_repvgg_block\n",
      "RepConv.fuse_repvgg_block\n",
      "RepConv.fuse_repvgg_block\n",
      "IDetect.fuse\n",
      "/home/leonardo/anaconda3/envs/ml/lib/python3.9/site-packages/torch/functional.py:478: UserWarning: torch.meshgrid: in an upcoming release, it will be required to pass the indexing argument. (Triggered internally at  ../aten/src/ATen/native/TensorShape.cpp:2895.)\n",
      "  return _VF.meshgrid(tensors, **kwargs)  # type: ignore[attr-defined]\n",
      "Model Summary: 314 layers, 36481772 parameters, 6194944 gradients, 103.2 GFLOPS\n",
      " Convert model to Traced-model... \n",
      " traced_script_module saved! \n",
      " model is traced! \n",
      "\n",
      "2 mamoas, Done. (182.5ms) Inference, (33.8ms) NMS\n",
      " The image with the result is saved in: runs/detect/exp/1_2.jpg\n",
      "1 mamoa, Done. (180.0ms) Inference, (0.9ms) NMS\n",
      " The image with the result is saved in: runs/detect/exp/2_1.jpg\n",
      "Done. (180.1ms) Inference, (0.4ms) NMS\n",
      " The image with the result is saved in: runs/detect/exp/3_1.jpg\n",
      "2 mamoas, Done. (180.3ms) Inference, (1.2ms) NMS\n",
      " The image with the result is saved in: runs/detect/exp/4_5.jpg\n",
      "1 mamoa, Done. (180.2ms) Inference, (1.0ms) NMS\n",
      " The image with the result is saved in: runs/detect/exp/5_1.jpg\n",
      "Done. (180.4ms) Inference, (0.4ms) NMS\n",
      " The image with the result is saved in: runs/detect/exp/6_2.jpg\n",
      "2 mamoas, Done. (180.3ms) Inference, (0.9ms) NMS\n",
      " The image with the result is saved in: runs/detect/exp/7_3.jpg\n",
      "Done. (1.420s)\n"
     ]
    }
   ],
   "source": [
    "!python detect.py --weights ~/Downloads/best.pt --source ../../preprocessing_mamoas/dataset_mamoas_res_320_jpg/teste_val"
   ]
  }
 ],
 "metadata": {
  "kernelspec": {
   "display_name": "Python 3.9.13 ('ml')",
   "language": "python",
   "name": "python3"
  },
  "language_info": {
   "codemirror_mode": {
    "name": "ipython",
    "version": 3
   },
   "file_extension": ".py",
   "mimetype": "text/x-python",
   "name": "python",
   "nbconvert_exporter": "python",
   "pygments_lexer": "ipython3",
   "version": "3.9.13"
  },
  "orig_nbformat": 4,
  "vscode": {
   "interpreter": {
    "hash": "f38ef96081ce8fac4853d63566894c15d566b3f7d6af3f21395c248e7bd1e2d2"
   }
  }
 },
 "nbformat": 4,
 "nbformat_minor": 2
}
